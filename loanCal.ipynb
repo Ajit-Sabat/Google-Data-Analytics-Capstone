{
 "cells": [
  {
   "cell_type": "code",
   "execution_count": 17,
   "metadata": {},
   "outputs": [],
   "source": [
    "from amortization.schedule import amortization_schedule\n",
    "from tabulate import tabulate"
   ]
  },
  {
   "cell_type": "code",
   "execution_count": 18,
   "metadata": {},
   "outputs": [
    {
     "name": "stdout",
     "output_type": "stream",
     "text": [
      "Monthly Installment is : 8303.57745321279.\n",
      "Overall Amount is 298928.78831566044 : \n",
      "Flat value is : 6.523838442088057.\n",
      "Extra value is : 48928.78831566044.\n",
      "Extra_per_month is : 1359.1330087683455.\n",
      "Extra_per_year is : 16309.596105220146.\n",
      "Extra_per_day is : 45.304433625611516.\n",
      "  Number    Amount    Interest    Principal     Balance\n",
      "--------  --------  ----------  -----------  ----------\n",
      "       1  8,303.58    2,500.00     5,803.58  244,196.42\n",
      "       2  8,303.58    2,441.96     5,861.62  238,334.80\n",
      "       3  8,303.58    2,383.35     5,920.23  232,414.57\n",
      "       4  8,303.58    2,324.15     5,979.43  226,435.14\n",
      "       5  8,303.58    2,264.35     6,039.23  220,395.91\n",
      "       6  8,303.58    2,203.96     6,099.62  214,296.29\n",
      "       7  8,303.58    2,142.96     6,160.62  208,135.67\n",
      "       8  8,303.58    2,081.36     6,222.22  201,913.45\n",
      "       9  8,303.58    2,019.13     6,284.45  195,629.00\n",
      "      10  8,303.58    1,956.29     6,347.29  189,281.71\n",
      "      11  8,303.58    1,892.82     6,410.76  182,870.95\n",
      "      12  8,303.58    1,828.71     6,474.87  176,396.08\n",
      "      13  8,303.58    1,763.96     6,539.62  169,856.46\n",
      "      14  8,303.58    1,698.56     6,605.02  163,251.44\n",
      "      15  8,303.58    1,632.51     6,671.07  156,580.37\n",
      "      16  8,303.58    1,565.80     6,737.78  149,842.59\n",
      "      17  8,303.58    1,498.43     6,805.15  143,037.44\n",
      "      18  8,303.58    1,430.37     6,873.21  136,164.23\n",
      "      19  8,303.58    1,361.64     6,941.94  129,222.29\n",
      "      20  8,303.58    1,292.22     7,011.36  122,210.93\n",
      "      21  8,303.58    1,222.11     7,081.47  115,129.46\n",
      "      22  8,303.58    1,151.29     7,152.29  107,977.17\n",
      "      23  8,303.58    1,079.77     7,223.81  100,753.36\n",
      "      24  8,303.58    1,007.53     7,296.05   93,457.31\n",
      "      25  8,303.58      934.57     7,369.01   86,088.30\n",
      "      26  8,303.58      860.88     7,442.70   78,645.60\n",
      "      27  8,303.58      786.46     7,517.12   71,128.48\n",
      "      28  8,303.58      711.28     7,592.30   63,536.18\n",
      "      29  8,303.58      635.36     7,668.22   55,867.96\n",
      "      30  8,303.58      558.68     7,744.90   48,123.06\n",
      "      31  8,303.58      481.23     7,822.35   40,300.71\n",
      "      32  8,303.58      403.01     7,900.57   32,400.14\n",
      "      33  8,303.58      324.00     7,979.58   24,420.56\n",
      "      34  8,303.58      244.21     8,059.37   16,361.19\n",
      "      35  8,303.58      163.61     8,139.97    8,221.22\n",
      "      36  8,303.43       82.21     8,221.22        0.00\n"
     ]
    }
   ],
   "source": [
    "principal=int(input(\"Enter Principal: \"))\n",
    "interest=int(input(\"Enter interest: \"))\n",
    "tenor=int(input(\"Enter tenor: \"))\n",
    "int_rate=interest/100\n",
    "\n",
    "monthly_emi =(int_rate/12) * (1/(1-(1+int_rate/12)**(-tenor)))*principal\n",
    "overall_amt= monthly_emi * tenor\n",
    "flat=((((monthly_emi*tenor)-principal)*12/tenor)/principal)*100\n",
    "Extra=principal+(monthly_emi*tenor)-principal-principal\n",
    "Extra_per_month = Extra/tenor\n",
    "Extra_per_year = Extra_per_month*12\n",
    "Extra_per_day= Extra_per_month/30\n",
    "#per_month_prcnt = ((flat/12)*100%)/100\n",
    "\n",
    "\n",
    "print(\"Monthly Installment is : {}.\".format(monthly_emi))\n",
    "print(\"Overall Amount is {} : \".format(overall_amt))\n",
    "print(\"Flat value is : {}.\".format(flat))\n",
    "print(\"Extra value is : {}.\".format(Extra))\n",
    "print(\"Extra_per_month is : {}.\".format(Extra_per_month))\n",
    "print(\"Extra_per_year is : {}.\".format(Extra_per_year))\n",
    "print(\"Extra_per_day is : {}.\".format(Extra_per_day))\n",
    "#print(\"Per_month_% is : {}.\".format(per_month_prcnt))\n",
    "\n",
    "table = (x for x in amortization_schedule(principle, int_rate, tenor))\n",
    "print(\n",
    "    tabulate(\n",
    "        table,\n",
    "        headers=[\"Number\", \"Amount\", \"Interest\", \"Principal\", \"Balance\"],\n",
    "        floatfmt=\",.2f\",\n",
    "        numalign=\"right\"\n",
    "    )\n",
    ")"
   ]
  },
  {
   "cell_type": "code",
   "execution_count": 19,
   "metadata": {},
   "outputs": [
    {
     "ename": "ValueError",
     "evalue": "invalid literal for int() with base 10: ''",
     "output_type": "error",
     "traceback": [
      "\u001b[1;31m---------------------------------------------------------------------------\u001b[0m",
      "\u001b[1;31mValueError\u001b[0m                                Traceback (most recent call last)",
      "\u001b[1;32mc:\\Users\\chintamaniaa\\Desktop\\AJIT\\web app\\loanCal.ipynb Cell 3'\u001b[0m in \u001b[0;36m<cell line: 1>\u001b[1;34m()\u001b[0m\n\u001b[1;32m----> <a href='vscode-notebook-cell:/c%3A/Users/chintamaniaa/Desktop/AJIT/web%20app/loanCal.ipynb#ch0000002?line=0'>1</a>\u001b[0m monthly\u001b[39m=\u001b[39m\u001b[39mint\u001b[39;49m(\u001b[39minput\u001b[39;49m(\u001b[39m\"\u001b[39;49m\u001b[39mvalue : \u001b[39;49m\u001b[39m\"\u001b[39;49m))\n\u001b[0;32m      <a href='vscode-notebook-cell:/c%3A/Users/chintamaniaa/Desktop/AJIT/web%20app/loanCal.ipynb#ch0000002?line=1'>2</a>\u001b[0m period \u001b[39m=\u001b[39m \u001b[39mint\u001b[39m(\u001b[39minput\u001b[39m(\u001b[39m\"\u001b[39m\u001b[39mperiod: \u001b[39m\u001b[39m\"\u001b[39m))\n\u001b[0;32m      <a href='vscode-notebook-cell:/c%3A/Users/chintamaniaa/Desktop/AJIT/web%20app/loanCal.ipynb#ch0000002?line=2'>3</a>\u001b[0m overall_amt\u001b[39m=\u001b[39m monthly \u001b[39m*\u001b[39m period\n",
      "\u001b[1;31mValueError\u001b[0m: invalid literal for int() with base 10: ''"
     ]
    }
   ],
   "source": [
    "monthly=int(input(\"value : \"))\n",
    "period = int(input(\"period: \"))\n",
    "overall_amt= monthly * period"
   ]
  },
  {
   "cell_type": "code",
   "execution_count": null,
   "metadata": {},
   "outputs": [
    {
     "data": {
      "text/plain": [
       "333660"
      ]
     },
     "execution_count": 10,
     "metadata": {},
     "output_type": "execute_result"
    }
   ],
   "source": [
    "overall_amt"
   ]
  },
  {
   "cell_type": "code",
   "execution_count": null,
   "metadata": {},
   "outputs": [],
   "source": []
  }
 ],
 "metadata": {
  "kernelspec": {
   "display_name": "Python 3.10.2 64-bit (system)",
   "language": "python",
   "name": "python3"
  },
  "language_info": {
   "codemirror_mode": {
    "name": "ipython",
    "version": 3
   },
   "file_extension": ".py",
   "mimetype": "text/x-python",
   "name": "python",
   "nbconvert_exporter": "python",
   "pygments_lexer": "ipython3",
   "version": "3.10.2"
  },
  "orig_nbformat": 4,
  "vscode": {
   "interpreter": {
    "hash": "26de051ba29f2982a8de78e945f0abaf191376122a1563185a90213a26c5da77"
   }
  }
 },
 "nbformat": 4,
 "nbformat_minor": 2
}

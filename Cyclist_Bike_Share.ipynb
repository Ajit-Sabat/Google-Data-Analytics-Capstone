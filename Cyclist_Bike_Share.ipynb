{
 "cells": [
  {
   "cell_type": "markdown",
   "metadata": {},
   "source": [
    "# <font color=green> Cyclist Bike_share Analysis. </font>"
   ]
  },
  {
   "cell_type": "markdown",
   "metadata": {},
   "source": [
    "### Importing the  Libraries and Files"
   ]
  },
  {
   "cell_type": "code",
   "execution_count": 3,
   "metadata": {},
   "outputs": [],
   "source": [
    "import os\n",
    "import pandas as pd\n",
    "import numpy as np\n",
    "import datetime\n",
    "import matplotlib.pyplot as plt\n",
    "import seaborn as sns"
   ]
  },
  {
   "cell_type": "code",
   "execution_count": 4,
   "metadata": {},
   "outputs": [
    {
     "data": {
      "text/plain": [
       "['202012-divvy-tripdata.csv',\n",
       " '202101-divvy-tripdata.csv',\n",
       " '202102-divvy-tripdata.csv',\n",
       " '202103-divvy-tripdata.csv',\n",
       " '202104-divvy-tripdata.csv',\n",
       " '202105-divvy-tripdata.csv',\n",
       " '202106-divvy-tripdata.csv',\n",
       " '202107-divvy-tripdata.csv',\n",
       " '202108-divvy-tripdata.csv',\n",
       " '202109-divvy-tripdata.csv',\n",
       " '202110-divvy-tripdata.csv',\n",
       " '202111-divvy-tripdata.csv']"
      ]
     },
     "execution_count": 4,
     "metadata": {},
     "output_type": "execute_result"
    }
   ],
   "source": [
    "files=os.listdir(r\"C:\\Users\\Ajit\\Desktop\\Projects\\Cyclist-bike-share\\cyclist_data\")\n",
    "files"
   ]
  },
  {
   "cell_type": "markdown",
   "metadata": {},
   "source": [
    "### Concatinating all the 12 months trip data to a single file"
   ]
  },
  {
   "cell_type": "code",
   "execution_count": 5,
   "metadata": {},
   "outputs": [],
   "source": [
    "path=r\"C:\\Users\\Ajit\\Desktop\\Projects\\Cyclist-bike-share\\cyclist_data\"\n",
    "cyclist_df=pd.DataFrame()\n",
    "for data in files:\n",
    "    df=pd.read_csv(path+\"/\"+data,encoding=\"utf-8\")\n",
    "    cyclist_df=pd.concat([cyclist_df,df])"
   ]
  },
  {
   "cell_type": "code",
   "execution_count": 6,
   "metadata": {},
   "outputs": [
    {
     "data": {
      "text/html": [
       "<div>\n",
       "<style scoped>\n",
       "    .dataframe tbody tr th:only-of-type {\n",
       "        vertical-align: middle;\n",
       "    }\n",
       "\n",
       "    .dataframe tbody tr th {\n",
       "        vertical-align: top;\n",
       "    }\n",
       "\n",
       "    .dataframe thead th {\n",
       "        text-align: right;\n",
       "    }\n",
       "</style>\n",
       "<table border=\"1\" class=\"dataframe\">\n",
       "  <thead>\n",
       "    <tr style=\"text-align: right;\">\n",
       "      <th></th>\n",
       "      <th>ride_id</th>\n",
       "      <th>rideable_type</th>\n",
       "      <th>started_at</th>\n",
       "      <th>ended_at</th>\n",
       "      <th>start_station_name</th>\n",
       "      <th>start_station_id</th>\n",
       "      <th>end_station_name</th>\n",
       "      <th>end_station_id</th>\n",
       "      <th>start_lat</th>\n",
       "      <th>start_lng</th>\n",
       "      <th>end_lat</th>\n",
       "      <th>end_lng</th>\n",
       "      <th>member_casual</th>\n",
       "    </tr>\n",
       "  </thead>\n",
       "  <tbody>\n",
       "    <tr>\n",
       "      <th>0</th>\n",
       "      <td>70B6A9A437D4C30D</td>\n",
       "      <td>classic_bike</td>\n",
       "      <td>2020-12-27 12:44:29</td>\n",
       "      <td>2020-12-27 12:55:06</td>\n",
       "      <td>Aberdeen St &amp; Jackson Blvd</td>\n",
       "      <td>13157</td>\n",
       "      <td>Desplaines St &amp; Kinzie St</td>\n",
       "      <td>TA1306000003</td>\n",
       "      <td>41.877726</td>\n",
       "      <td>-87.654787</td>\n",
       "      <td>41.888716</td>\n",
       "      <td>-87.644448</td>\n",
       "      <td>member</td>\n",
       "    </tr>\n",
       "    <tr>\n",
       "      <th>1</th>\n",
       "      <td>158A465D4E74C54A</td>\n",
       "      <td>electric_bike</td>\n",
       "      <td>2020-12-18 17:37:15</td>\n",
       "      <td>2020-12-18 17:44:19</td>\n",
       "      <td>NaN</td>\n",
       "      <td>NaN</td>\n",
       "      <td>NaN</td>\n",
       "      <td>NaN</td>\n",
       "      <td>41.930000</td>\n",
       "      <td>-87.700000</td>\n",
       "      <td>41.910000</td>\n",
       "      <td>-87.700000</td>\n",
       "      <td>member</td>\n",
       "    </tr>\n",
       "    <tr>\n",
       "      <th>2</th>\n",
       "      <td>5262016E0F1F2F9A</td>\n",
       "      <td>electric_bike</td>\n",
       "      <td>2020-12-15 15:04:33</td>\n",
       "      <td>2020-12-15 15:11:28</td>\n",
       "      <td>NaN</td>\n",
       "      <td>NaN</td>\n",
       "      <td>NaN</td>\n",
       "      <td>NaN</td>\n",
       "      <td>41.910000</td>\n",
       "      <td>-87.690000</td>\n",
       "      <td>41.930000</td>\n",
       "      <td>-87.700000</td>\n",
       "      <td>member</td>\n",
       "    </tr>\n",
       "    <tr>\n",
       "      <th>3</th>\n",
       "      <td>BE119628E44F871E</td>\n",
       "      <td>electric_bike</td>\n",
       "      <td>2020-12-15 15:54:18</td>\n",
       "      <td>2020-12-15 16:00:11</td>\n",
       "      <td>NaN</td>\n",
       "      <td>NaN</td>\n",
       "      <td>NaN</td>\n",
       "      <td>NaN</td>\n",
       "      <td>41.920000</td>\n",
       "      <td>-87.700000</td>\n",
       "      <td>41.910000</td>\n",
       "      <td>-87.700000</td>\n",
       "      <td>member</td>\n",
       "    </tr>\n",
       "    <tr>\n",
       "      <th>4</th>\n",
       "      <td>69AF78D57854E110</td>\n",
       "      <td>electric_bike</td>\n",
       "      <td>2020-12-22 12:08:17</td>\n",
       "      <td>2020-12-22 12:10:59</td>\n",
       "      <td>NaN</td>\n",
       "      <td>NaN</td>\n",
       "      <td>NaN</td>\n",
       "      <td>NaN</td>\n",
       "      <td>41.800000</td>\n",
       "      <td>-87.590000</td>\n",
       "      <td>41.800000</td>\n",
       "      <td>-87.590000</td>\n",
       "      <td>member</td>\n",
       "    </tr>\n",
       "  </tbody>\n",
       "</table>\n",
       "</div>"
      ],
      "text/plain": [
       "            ride_id  rideable_type           started_at             ended_at  \\\n",
       "0  70B6A9A437D4C30D   classic_bike  2020-12-27 12:44:29  2020-12-27 12:55:06   \n",
       "1  158A465D4E74C54A  electric_bike  2020-12-18 17:37:15  2020-12-18 17:44:19   \n",
       "2  5262016E0F1F2F9A  electric_bike  2020-12-15 15:04:33  2020-12-15 15:11:28   \n",
       "3  BE119628E44F871E  electric_bike  2020-12-15 15:54:18  2020-12-15 16:00:11   \n",
       "4  69AF78D57854E110  electric_bike  2020-12-22 12:08:17  2020-12-22 12:10:59   \n",
       "\n",
       "           start_station_name start_station_id           end_station_name  \\\n",
       "0  Aberdeen St & Jackson Blvd            13157  Desplaines St & Kinzie St   \n",
       "1                         NaN              NaN                        NaN   \n",
       "2                         NaN              NaN                        NaN   \n",
       "3                         NaN              NaN                        NaN   \n",
       "4                         NaN              NaN                        NaN   \n",
       "\n",
       "  end_station_id  start_lat  start_lng    end_lat    end_lng member_casual  \n",
       "0   TA1306000003  41.877726 -87.654787  41.888716 -87.644448        member  \n",
       "1            NaN  41.930000 -87.700000  41.910000 -87.700000        member  \n",
       "2            NaN  41.910000 -87.690000  41.930000 -87.700000        member  \n",
       "3            NaN  41.920000 -87.700000  41.910000 -87.700000        member  \n",
       "4            NaN  41.800000 -87.590000  41.800000 -87.590000        member  "
      ]
     },
     "execution_count": 6,
     "metadata": {},
     "output_type": "execute_result"
    }
   ],
   "source": [
    "cyclist_df.head()"
   ]
  },
  {
   "cell_type": "markdown",
   "metadata": {},
   "source": [
    "### Exploring the Structure of data and missing values"
   ]
  },
  {
   "cell_type": "code",
   "execution_count": 5,
   "metadata": {},
   "outputs": [
    {
     "data": {
      "text/plain": [
       "(5479096, 13)"
      ]
     },
     "execution_count": 5,
     "metadata": {},
     "output_type": "execute_result"
    }
   ],
   "source": [
    "cyclist_df.shape"
   ]
  },
  {
   "cell_type": "code",
   "execution_count": 6,
   "metadata": {},
   "outputs": [
    {
     "name": "stdout",
     "output_type": "stream",
     "text": [
      "<class 'pandas.core.frame.DataFrame'>\n",
      "Int64Index: 5479096 entries, 0 to 359977\n",
      "Data columns (total 13 columns):\n",
      " #   Column              Dtype  \n",
      "---  ------              -----  \n",
      " 0   ride_id             object \n",
      " 1   rideable_type       object \n",
      " 2   started_at          object \n",
      " 3   ended_at            object \n",
      " 4   start_station_name  object \n",
      " 5   start_station_id    object \n",
      " 6   end_station_name    object \n",
      " 7   end_station_id      object \n",
      " 8   start_lat           float64\n",
      " 9   start_lng           float64\n",
      " 10  end_lat             float64\n",
      " 11  end_lng             float64\n",
      " 12  member_casual       object \n",
      "dtypes: float64(4), object(9)\n",
      "memory usage: 585.2+ MB\n"
     ]
    }
   ],
   "source": [
    "cyclist_df.info()"
   ]
  },
  {
   "cell_type": "code",
   "execution_count": 7,
   "metadata": {},
   "outputs": [
    {
     "data": {
      "text/plain": [
       "ride_id                    0\n",
       "rideable_type              0\n",
       "started_at                 0\n",
       "ended_at                   0\n",
       "start_station_name    651445\n",
       "start_station_id      651442\n",
       "end_station_name      698909\n",
       "end_station_id        698909\n",
       "start_lat                  0\n",
       "start_lng                  0\n",
       "end_lat                 4738\n",
       "end_lng                 4738\n",
       "member_casual              0\n",
       "dtype: int64"
      ]
     },
     "execution_count": 7,
     "metadata": {},
     "output_type": "execute_result"
    }
   ],
   "source": [
    "cyclist_df.isnull().sum()"
   ]
  },
  {
   "cell_type": "code",
   "execution_count": 8,
   "metadata": {},
   "outputs": [],
   "source": [
    "# Renaming the columns\n",
    "cyclist_df.rename(columns={\"rideable_type\":\"ride_type\",\"member_casual\":\"subscription_type\"},inplace=True)"
   ]
  },
  {
   "cell_type": "markdown",
   "metadata": {},
   "source": [
    "### Converting \"started_at\" and \"ended_at\" columns to datetime and Performing Feature Engineering"
   ]
  },
  {
   "cell_type": "code",
   "execution_count": 9,
   "metadata": {},
   "outputs": [
    {
     "data": {
      "text/plain": [
       "dtype('<M8[ns]')"
      ]
     },
     "execution_count": 9,
     "metadata": {},
     "output_type": "execute_result"
    }
   ],
   "source": [
    "cyclist_df[\"started_at\"]=pd.to_datetime(cyclist_df[\"started_at\"])\n",
    "cyclist_df[\"started_at\"].dtypes"
   ]
  },
  {
   "cell_type": "code",
   "execution_count": 10,
   "metadata": {},
   "outputs": [
    {
     "data": {
      "text/plain": [
       "dtype('<M8[ns]')"
      ]
     },
     "execution_count": 10,
     "metadata": {},
     "output_type": "execute_result"
    }
   ],
   "source": [
    "cyclist_df[\"ended_at\"]=pd.to_datetime(cyclist_df[\"ended_at\"])\n",
    "cyclist_df[\"ended_at\"].dtypes"
   ]
  },
  {
   "cell_type": "code",
   "execution_count": 11,
   "metadata": {},
   "outputs": [],
   "source": [
    "cyclist_df[\"start_day\"]=cyclist_df[\"started_at\"].dt.day\n",
    "cyclist_df[\"month\"]=cyclist_df[\"started_at\"].dt.month\n",
    "cyclist_df[\"year\"]=cyclist_df[\"started_at\"].dt.year\n",
    "cyclist_df[\"week_day\"]=cyclist_df[\"started_at\"].dt.day_name()"
   ]
  },
  {
   "cell_type": "code",
   "execution_count": 12,
   "metadata": {},
   "outputs": [
    {
     "data": {
      "text/html": [
       "<div>\n",
       "<style scoped>\n",
       "    .dataframe tbody tr th:only-of-type {\n",
       "        vertical-align: middle;\n",
       "    }\n",
       "\n",
       "    .dataframe tbody tr th {\n",
       "        vertical-align: top;\n",
       "    }\n",
       "\n",
       "    .dataframe thead th {\n",
       "        text-align: right;\n",
       "    }\n",
       "</style>\n",
       "<table border=\"1\" class=\"dataframe\">\n",
       "  <thead>\n",
       "    <tr style=\"text-align: right;\">\n",
       "      <th></th>\n",
       "      <th>ride_id</th>\n",
       "      <th>ride_type</th>\n",
       "      <th>started_at</th>\n",
       "      <th>ended_at</th>\n",
       "      <th>start_station_name</th>\n",
       "      <th>start_station_id</th>\n",
       "      <th>end_station_name</th>\n",
       "      <th>end_station_id</th>\n",
       "      <th>start_lat</th>\n",
       "      <th>start_lng</th>\n",
       "      <th>end_lat</th>\n",
       "      <th>end_lng</th>\n",
       "      <th>subscription_type</th>\n",
       "      <th>start_day</th>\n",
       "      <th>month</th>\n",
       "      <th>year</th>\n",
       "      <th>week_day</th>\n",
       "    </tr>\n",
       "  </thead>\n",
       "  <tbody>\n",
       "    <tr>\n",
       "      <th>0</th>\n",
       "      <td>70B6A9A437D4C30D</td>\n",
       "      <td>classic_bike</td>\n",
       "      <td>2020-12-27 12:44:29</td>\n",
       "      <td>2020-12-27 12:55:06</td>\n",
       "      <td>Aberdeen St &amp; Jackson Blvd</td>\n",
       "      <td>13157</td>\n",
       "      <td>Desplaines St &amp; Kinzie St</td>\n",
       "      <td>TA1306000003</td>\n",
       "      <td>41.877726</td>\n",
       "      <td>-87.654787</td>\n",
       "      <td>41.888716</td>\n",
       "      <td>-87.644448</td>\n",
       "      <td>member</td>\n",
       "      <td>27</td>\n",
       "      <td>12</td>\n",
       "      <td>2020</td>\n",
       "      <td>Sunday</td>\n",
       "    </tr>\n",
       "    <tr>\n",
       "      <th>1</th>\n",
       "      <td>158A465D4E74C54A</td>\n",
       "      <td>electric_bike</td>\n",
       "      <td>2020-12-18 17:37:15</td>\n",
       "      <td>2020-12-18 17:44:19</td>\n",
       "      <td>NaN</td>\n",
       "      <td>NaN</td>\n",
       "      <td>NaN</td>\n",
       "      <td>NaN</td>\n",
       "      <td>41.930000</td>\n",
       "      <td>-87.700000</td>\n",
       "      <td>41.910000</td>\n",
       "      <td>-87.700000</td>\n",
       "      <td>member</td>\n",
       "      <td>18</td>\n",
       "      <td>12</td>\n",
       "      <td>2020</td>\n",
       "      <td>Friday</td>\n",
       "    </tr>\n",
       "    <tr>\n",
       "      <th>2</th>\n",
       "      <td>5262016E0F1F2F9A</td>\n",
       "      <td>electric_bike</td>\n",
       "      <td>2020-12-15 15:04:33</td>\n",
       "      <td>2020-12-15 15:11:28</td>\n",
       "      <td>NaN</td>\n",
       "      <td>NaN</td>\n",
       "      <td>NaN</td>\n",
       "      <td>NaN</td>\n",
       "      <td>41.910000</td>\n",
       "      <td>-87.690000</td>\n",
       "      <td>41.930000</td>\n",
       "      <td>-87.700000</td>\n",
       "      <td>member</td>\n",
       "      <td>15</td>\n",
       "      <td>12</td>\n",
       "      <td>2020</td>\n",
       "      <td>Tuesday</td>\n",
       "    </tr>\n",
       "    <tr>\n",
       "      <th>3</th>\n",
       "      <td>BE119628E44F871E</td>\n",
       "      <td>electric_bike</td>\n",
       "      <td>2020-12-15 15:54:18</td>\n",
       "      <td>2020-12-15 16:00:11</td>\n",
       "      <td>NaN</td>\n",
       "      <td>NaN</td>\n",
       "      <td>NaN</td>\n",
       "      <td>NaN</td>\n",
       "      <td>41.920000</td>\n",
       "      <td>-87.700000</td>\n",
       "      <td>41.910000</td>\n",
       "      <td>-87.700000</td>\n",
       "      <td>member</td>\n",
       "      <td>15</td>\n",
       "      <td>12</td>\n",
       "      <td>2020</td>\n",
       "      <td>Tuesday</td>\n",
       "    </tr>\n",
       "    <tr>\n",
       "      <th>4</th>\n",
       "      <td>69AF78D57854E110</td>\n",
       "      <td>electric_bike</td>\n",
       "      <td>2020-12-22 12:08:17</td>\n",
       "      <td>2020-12-22 12:10:59</td>\n",
       "      <td>NaN</td>\n",
       "      <td>NaN</td>\n",
       "      <td>NaN</td>\n",
       "      <td>NaN</td>\n",
       "      <td>41.800000</td>\n",
       "      <td>-87.590000</td>\n",
       "      <td>41.800000</td>\n",
       "      <td>-87.590000</td>\n",
       "      <td>member</td>\n",
       "      <td>22</td>\n",
       "      <td>12</td>\n",
       "      <td>2020</td>\n",
       "      <td>Tuesday</td>\n",
       "    </tr>\n",
       "  </tbody>\n",
       "</table>\n",
       "</div>"
      ],
      "text/plain": [
       "            ride_id      ride_type          started_at            ended_at  \\\n",
       "0  70B6A9A437D4C30D   classic_bike 2020-12-27 12:44:29 2020-12-27 12:55:06   \n",
       "1  158A465D4E74C54A  electric_bike 2020-12-18 17:37:15 2020-12-18 17:44:19   \n",
       "2  5262016E0F1F2F9A  electric_bike 2020-12-15 15:04:33 2020-12-15 15:11:28   \n",
       "3  BE119628E44F871E  electric_bike 2020-12-15 15:54:18 2020-12-15 16:00:11   \n",
       "4  69AF78D57854E110  electric_bike 2020-12-22 12:08:17 2020-12-22 12:10:59   \n",
       "\n",
       "           start_station_name start_station_id           end_station_name  \\\n",
       "0  Aberdeen St & Jackson Blvd            13157  Desplaines St & Kinzie St   \n",
       "1                         NaN              NaN                        NaN   \n",
       "2                         NaN              NaN                        NaN   \n",
       "3                         NaN              NaN                        NaN   \n",
       "4                         NaN              NaN                        NaN   \n",
       "\n",
       "  end_station_id  start_lat  start_lng    end_lat    end_lng  \\\n",
       "0   TA1306000003  41.877726 -87.654787  41.888716 -87.644448   \n",
       "1            NaN  41.930000 -87.700000  41.910000 -87.700000   \n",
       "2            NaN  41.910000 -87.690000  41.930000 -87.700000   \n",
       "3            NaN  41.920000 -87.700000  41.910000 -87.700000   \n",
       "4            NaN  41.800000 -87.590000  41.800000 -87.590000   \n",
       "\n",
       "  subscription_type  start_day  month  year week_day  \n",
       "0            member         27     12  2020   Sunday  \n",
       "1            member         18     12  2020   Friday  \n",
       "2            member         15     12  2020  Tuesday  \n",
       "3            member         15     12  2020  Tuesday  \n",
       "4            member         22     12  2020  Tuesday  "
      ]
     },
     "execution_count": 12,
     "metadata": {},
     "output_type": "execute_result"
    }
   ],
   "source": [
    "cyclist_df.head()"
   ]
  },
  {
   "cell_type": "code",
   "execution_count": 13,
   "metadata": {},
   "outputs": [
    {
     "data": {
      "text/html": [
       "<div>\n",
       "<style scoped>\n",
       "    .dataframe tbody tr th:only-of-type {\n",
       "        vertical-align: middle;\n",
       "    }\n",
       "\n",
       "    .dataframe tbody tr th {\n",
       "        vertical-align: top;\n",
       "    }\n",
       "\n",
       "    .dataframe thead th {\n",
       "        text-align: right;\n",
       "    }\n",
       "</style>\n",
       "<table border=\"1\" class=\"dataframe\">\n",
       "  <thead>\n",
       "    <tr style=\"text-align: right;\">\n",
       "      <th></th>\n",
       "      <th>ride_id</th>\n",
       "      <th>ride_type</th>\n",
       "      <th>started_at</th>\n",
       "      <th>ended_at</th>\n",
       "      <th>start_station_name</th>\n",
       "      <th>start_station_id</th>\n",
       "      <th>end_station_name</th>\n",
       "      <th>end_station_id</th>\n",
       "      <th>start_lat</th>\n",
       "      <th>start_lng</th>\n",
       "      <th>end_lat</th>\n",
       "      <th>end_lng</th>\n",
       "      <th>subscription_type</th>\n",
       "      <th>start_day</th>\n",
       "      <th>month</th>\n",
       "      <th>year</th>\n",
       "      <th>week_day</th>\n",
       "    </tr>\n",
       "  </thead>\n",
       "  <tbody>\n",
       "    <tr>\n",
       "      <th>359973</th>\n",
       "      <td>E00E9F3500D69BAA</td>\n",
       "      <td>electric_bike</td>\n",
       "      <td>2021-11-29 00:39:13</td>\n",
       "      <td>2021-11-29 00:51:41</td>\n",
       "      <td>Logan Blvd &amp; Elston Ave</td>\n",
       "      <td>TA1308000031</td>\n",
       "      <td>NaN</td>\n",
       "      <td>NaN</td>\n",
       "      <td>41.929454</td>\n",
       "      <td>-87.684195</td>\n",
       "      <td>41.93</td>\n",
       "      <td>-87.72</td>\n",
       "      <td>member</td>\n",
       "      <td>29</td>\n",
       "      <td>11</td>\n",
       "      <td>2021</td>\n",
       "      <td>Monday</td>\n",
       "    </tr>\n",
       "    <tr>\n",
       "      <th>359974</th>\n",
       "      <td>8EAA66CE314E5FF1</td>\n",
       "      <td>electric_bike</td>\n",
       "      <td>2021-11-03 13:56:33</td>\n",
       "      <td>2021-11-03 14:01:27</td>\n",
       "      <td>Logan Blvd &amp; Elston Ave</td>\n",
       "      <td>TA1308000031</td>\n",
       "      <td>NaN</td>\n",
       "      <td>NaN</td>\n",
       "      <td>41.929441</td>\n",
       "      <td>-87.684180</td>\n",
       "      <td>41.94</td>\n",
       "      <td>-87.69</td>\n",
       "      <td>member</td>\n",
       "      <td>3</td>\n",
       "      <td>11</td>\n",
       "      <td>2021</td>\n",
       "      <td>Wednesday</td>\n",
       "    </tr>\n",
       "    <tr>\n",
       "      <th>359975</th>\n",
       "      <td>36C2DC8BB1E13491</td>\n",
       "      <td>electric_bike</td>\n",
       "      <td>2021-11-02 19:32:18</td>\n",
       "      <td>2021-11-02 19:36:16</td>\n",
       "      <td>Logan Blvd &amp; Elston Ave</td>\n",
       "      <td>TA1308000031</td>\n",
       "      <td>NaN</td>\n",
       "      <td>NaN</td>\n",
       "      <td>41.929452</td>\n",
       "      <td>-87.684135</td>\n",
       "      <td>41.94</td>\n",
       "      <td>-87.69</td>\n",
       "      <td>member</td>\n",
       "      <td>2</td>\n",
       "      <td>11</td>\n",
       "      <td>2021</td>\n",
       "      <td>Tuesday</td>\n",
       "    </tr>\n",
       "    <tr>\n",
       "      <th>359976</th>\n",
       "      <td>8E42FE5C67DF6A96</td>\n",
       "      <td>electric_bike</td>\n",
       "      <td>2021-11-10 20:15:06</td>\n",
       "      <td>2021-11-10 20:22:01</td>\n",
       "      <td>Logan Blvd &amp; Elston Ave</td>\n",
       "      <td>TA1308000031</td>\n",
       "      <td>NaN</td>\n",
       "      <td>NaN</td>\n",
       "      <td>41.929428</td>\n",
       "      <td>-87.684175</td>\n",
       "      <td>41.94</td>\n",
       "      <td>-87.69</td>\n",
       "      <td>member</td>\n",
       "      <td>10</td>\n",
       "      <td>11</td>\n",
       "      <td>2021</td>\n",
       "      <td>Wednesday</td>\n",
       "    </tr>\n",
       "    <tr>\n",
       "      <th>359977</th>\n",
       "      <td>4F15069E2D2519BC</td>\n",
       "      <td>electric_bike</td>\n",
       "      <td>2021-11-30 20:18:00</td>\n",
       "      <td>2021-11-30 20:37:27</td>\n",
       "      <td>Ogden Ave &amp; Chicago Ave</td>\n",
       "      <td>TA1305000020</td>\n",
       "      <td>NaN</td>\n",
       "      <td>NaN</td>\n",
       "      <td>41.896354</td>\n",
       "      <td>-87.653982</td>\n",
       "      <td>41.95</td>\n",
       "      <td>-87.70</td>\n",
       "      <td>member</td>\n",
       "      <td>30</td>\n",
       "      <td>11</td>\n",
       "      <td>2021</td>\n",
       "      <td>Tuesday</td>\n",
       "    </tr>\n",
       "  </tbody>\n",
       "</table>\n",
       "</div>"
      ],
      "text/plain": [
       "                 ride_id      ride_type          started_at  \\\n",
       "359973  E00E9F3500D69BAA  electric_bike 2021-11-29 00:39:13   \n",
       "359974  8EAA66CE314E5FF1  electric_bike 2021-11-03 13:56:33   \n",
       "359975  36C2DC8BB1E13491  electric_bike 2021-11-02 19:32:18   \n",
       "359976  8E42FE5C67DF6A96  electric_bike 2021-11-10 20:15:06   \n",
       "359977  4F15069E2D2519BC  electric_bike 2021-11-30 20:18:00   \n",
       "\n",
       "                  ended_at       start_station_name start_station_id  \\\n",
       "359973 2021-11-29 00:51:41  Logan Blvd & Elston Ave     TA1308000031   \n",
       "359974 2021-11-03 14:01:27  Logan Blvd & Elston Ave     TA1308000031   \n",
       "359975 2021-11-02 19:36:16  Logan Blvd & Elston Ave     TA1308000031   \n",
       "359976 2021-11-10 20:22:01  Logan Blvd & Elston Ave     TA1308000031   \n",
       "359977 2021-11-30 20:37:27  Ogden Ave & Chicago Ave     TA1305000020   \n",
       "\n",
       "       end_station_name end_station_id  start_lat  start_lng  end_lat  \\\n",
       "359973              NaN            NaN  41.929454 -87.684195    41.93   \n",
       "359974              NaN            NaN  41.929441 -87.684180    41.94   \n",
       "359975              NaN            NaN  41.929452 -87.684135    41.94   \n",
       "359976              NaN            NaN  41.929428 -87.684175    41.94   \n",
       "359977              NaN            NaN  41.896354 -87.653982    41.95   \n",
       "\n",
       "        end_lng subscription_type  start_day  month  year   week_day  \n",
       "359973   -87.72            member         29     11  2021     Monday  \n",
       "359974   -87.69            member          3     11  2021  Wednesday  \n",
       "359975   -87.69            member          2     11  2021    Tuesday  \n",
       "359976   -87.69            member         10     11  2021  Wednesday  \n",
       "359977   -87.70            member         30     11  2021    Tuesday  "
      ]
     },
     "execution_count": 13,
     "metadata": {},
     "output_type": "execute_result"
    }
   ],
   "source": [
    "cyclist_df.tail()"
   ]
  },
  {
   "cell_type": "code",
   "execution_count": 14,
   "metadata": {},
   "outputs": [],
   "source": [
    "cyclist_df.to_csv(r\"C:\\Users\\Ajit\\Desktop\\Projects\\Cyclist-bike-share\\cyclist_alltrips_data.csv\")  #saving the clean data"
   ]
  },
  {
   "cell_type": "code",
   "execution_count": null,
   "metadata": {},
   "outputs": [],
   "source": []
  },
  {
   "cell_type": "markdown",
   "metadata": {},
   "source": [
    "## Top 10 start station's visited by the Rider's."
   ]
  },
  {
   "cell_type": "code",
   "execution_count": 17,
   "metadata": {},
   "outputs": [
    {
     "data": {
      "text/html": [
       "<div>\n",
       "<style scoped>\n",
       "    .dataframe tbody tr th:only-of-type {\n",
       "        vertical-align: middle;\n",
       "    }\n",
       "\n",
       "    .dataframe tbody tr th {\n",
       "        vertical-align: top;\n",
       "    }\n",
       "\n",
       "    .dataframe thead th {\n",
       "        text-align: right;\n",
       "    }\n",
       "</style>\n",
       "<table border=\"1\" class=\"dataframe\">\n",
       "  <thead>\n",
       "    <tr style=\"text-align: right;\">\n",
       "      <th></th>\n",
       "      <th>Count</th>\n",
       "    </tr>\n",
       "    <tr>\n",
       "      <th>start_station_name</th>\n",
       "      <th></th>\n",
       "    </tr>\n",
       "  </thead>\n",
       "  <tbody>\n",
       "    <tr>\n",
       "      <th>Streeter Dr &amp; Grand Ave</th>\n",
       "      <td>81780</td>\n",
       "    </tr>\n",
       "    <tr>\n",
       "      <th>Michigan Ave &amp; Oak St</th>\n",
       "      <td>44130</td>\n",
       "    </tr>\n",
       "    <tr>\n",
       "      <th>Wells St &amp; Concord Ln</th>\n",
       "      <td>43010</td>\n",
       "    </tr>\n",
       "    <tr>\n",
       "      <th>Millennium Park</th>\n",
       "      <td>41563</td>\n",
       "    </tr>\n",
       "    <tr>\n",
       "      <th>Clark St &amp; Elm St</th>\n",
       "      <td>40834</td>\n",
       "    </tr>\n",
       "    <tr>\n",
       "      <th>Wells St &amp; Elm St</th>\n",
       "      <td>37172</td>\n",
       "    </tr>\n",
       "    <tr>\n",
       "      <th>Theater on the Lake</th>\n",
       "      <td>36883</td>\n",
       "    </tr>\n",
       "    <tr>\n",
       "      <th>Clark St &amp; Lincoln Ave</th>\n",
       "      <td>33114</td>\n",
       "    </tr>\n",
       "    <tr>\n",
       "      <th>Clark St &amp; Armitage Ave</th>\n",
       "      <td>32713</td>\n",
       "    </tr>\n",
       "    <tr>\n",
       "      <th>Kingsbury St &amp; Kinzie St</th>\n",
       "      <td>32680</td>\n",
       "    </tr>\n",
       "  </tbody>\n",
       "</table>\n",
       "</div>"
      ],
      "text/plain": [
       "                          Count\n",
       "start_station_name             \n",
       "Streeter Dr & Grand Ave   81780\n",
       "Michigan Ave & Oak St     44130\n",
       "Wells St & Concord Ln     43010\n",
       "Millennium Park           41563\n",
       "Clark St & Elm St         40834\n",
       "Wells St & Elm St         37172\n",
       "Theater on the Lake       36883\n",
       "Clark St & Lincoln Ave    33114\n",
       "Clark St & Armitage Ave   32713\n",
       "Kingsbury St & Kinzie St  32680"
      ]
     },
     "execution_count": 17,
     "metadata": {},
     "output_type": "execute_result"
    }
   ],
   "source": [
    "Top_start_station=cyclist_df.groupby(\"start_station_name\").agg(Count=('ride_id','count')).sort_values(by='Count',ascending=False)\n",
    "Top_start_station.head(10)"
   ]
  },
  {
   "cell_type": "code",
   "execution_count": null,
   "metadata": {},
   "outputs": [],
   "source": []
  },
  {
   "cell_type": "markdown",
   "metadata": {},
   "source": [
    "## Top 10 End station's visited by the Rider's."
   ]
  },
  {
   "cell_type": "code",
   "execution_count": 18,
   "metadata": {},
   "outputs": [
    {
     "data": {
      "text/html": [
       "<div>\n",
       "<style scoped>\n",
       "    .dataframe tbody tr th:only-of-type {\n",
       "        vertical-align: middle;\n",
       "    }\n",
       "\n",
       "    .dataframe tbody tr th {\n",
       "        vertical-align: top;\n",
       "    }\n",
       "\n",
       "    .dataframe thead th {\n",
       "        text-align: right;\n",
       "    }\n",
       "</style>\n",
       "<table border=\"1\" class=\"dataframe\">\n",
       "  <thead>\n",
       "    <tr style=\"text-align: right;\">\n",
       "      <th></th>\n",
       "      <th>Count</th>\n",
       "    </tr>\n",
       "    <tr>\n",
       "      <th>end_station_name</th>\n",
       "      <th></th>\n",
       "    </tr>\n",
       "  </thead>\n",
       "  <tbody>\n",
       "    <tr>\n",
       "      <th>Streeter Dr &amp; Grand Ave</th>\n",
       "      <td>82316</td>\n",
       "    </tr>\n",
       "    <tr>\n",
       "      <th>Michigan Ave &amp; Oak St</th>\n",
       "      <td>44606</td>\n",
       "    </tr>\n",
       "    <tr>\n",
       "      <th>Wells St &amp; Concord Ln</th>\n",
       "      <td>43325</td>\n",
       "    </tr>\n",
       "    <tr>\n",
       "      <th>Millennium Park</th>\n",
       "      <td>42185</td>\n",
       "    </tr>\n",
       "    <tr>\n",
       "      <th>Clark St &amp; Elm St</th>\n",
       "      <td>40236</td>\n",
       "    </tr>\n",
       "    <tr>\n",
       "      <th>Theater on the Lake</th>\n",
       "      <td>37093</td>\n",
       "    </tr>\n",
       "    <tr>\n",
       "      <th>Wells St &amp; Elm St</th>\n",
       "      <td>36946</td>\n",
       "    </tr>\n",
       "    <tr>\n",
       "      <th>Clark St &amp; Lincoln Ave</th>\n",
       "      <td>33011</td>\n",
       "    </tr>\n",
       "    <tr>\n",
       "      <th>Wabash Ave &amp; Grand Ave</th>\n",
       "      <td>32794</td>\n",
       "    </tr>\n",
       "    <tr>\n",
       "      <th>Dearborn St &amp; Erie St</th>\n",
       "      <td>32262</td>\n",
       "    </tr>\n",
       "  </tbody>\n",
       "</table>\n",
       "</div>"
      ],
      "text/plain": [
       "                         Count\n",
       "end_station_name              \n",
       "Streeter Dr & Grand Ave  82316\n",
       "Michigan Ave & Oak St    44606\n",
       "Wells St & Concord Ln    43325\n",
       "Millennium Park          42185\n",
       "Clark St & Elm St        40236\n",
       "Theater on the Lake      37093\n",
       "Wells St & Elm St        36946\n",
       "Clark St & Lincoln Ave   33011\n",
       "Wabash Ave & Grand Ave   32794\n",
       "Dearborn St & Erie St    32262"
      ]
     },
     "execution_count": 18,
     "metadata": {},
     "output_type": "execute_result"
    }
   ],
   "source": [
    "Top_end_station=cyclist_df.groupby(\"end_station_name\").agg(Count=('ride_id','count')).sort_values(by='Count',ascending=False)\n",
    "Top_end_station.head(10)"
   ]
  },
  {
   "cell_type": "code",
   "execution_count": null,
   "metadata": {},
   "outputs": [],
   "source": []
  },
  {
   "cell_type": "code",
   "execution_count": 15,
   "metadata": {},
   "outputs": [
    {
     "data": {
      "text/plain": [
       "0        00:10:37\n",
       "1        00:07:04\n",
       "2        00:06:55\n",
       "3        00:05:53\n",
       "4        00:02:42\n",
       "           ...   \n",
       "359973   00:12:28\n",
       "359974   00:04:54\n",
       "359975   00:03:58\n",
       "359976   00:06:55\n",
       "359977   00:19:27\n",
       "Name: ride_length, Length: 5479096, dtype: timedelta64[ns]"
      ]
     },
     "execution_count": 15,
     "metadata": {},
     "output_type": "execute_result"
    }
   ],
   "source": [
    "## Calculating the average ride length\n",
    "\n",
    "cyclist_df[\"ride_length\"]=cyclist_df[\"ended_at\"]-cyclist_df[\"started_at\"]\n",
    "cyclist_df[\"ride_length\"]"
   ]
  },
  {
   "cell_type": "code",
   "execution_count": 16,
   "metadata": {},
   "outputs": [
    {
     "data": {
      "text/html": [
       "<div>\n",
       "<style scoped>\n",
       "    .dataframe tbody tr th:only-of-type {\n",
       "        vertical-align: middle;\n",
       "    }\n",
       "\n",
       "    .dataframe tbody tr th {\n",
       "        vertical-align: top;\n",
       "    }\n",
       "\n",
       "    .dataframe thead th {\n",
       "        text-align: right;\n",
       "    }\n",
       "</style>\n",
       "<table border=\"1\" class=\"dataframe\">\n",
       "  <thead>\n",
       "    <tr style=\"text-align: right;\">\n",
       "      <th></th>\n",
       "      <th>ride_id</th>\n",
       "      <th>ride_type</th>\n",
       "      <th>started_at</th>\n",
       "      <th>ended_at</th>\n",
       "      <th>start_station_name</th>\n",
       "      <th>start_station_id</th>\n",
       "      <th>end_station_name</th>\n",
       "      <th>end_station_id</th>\n",
       "      <th>start_lat</th>\n",
       "      <th>start_lng</th>\n",
       "      <th>end_lat</th>\n",
       "      <th>end_lng</th>\n",
       "      <th>subscription_type</th>\n",
       "      <th>start_day</th>\n",
       "      <th>month</th>\n",
       "      <th>year</th>\n",
       "      <th>week_day</th>\n",
       "      <th>ride_length</th>\n",
       "    </tr>\n",
       "  </thead>\n",
       "  <tbody>\n",
       "    <tr>\n",
       "      <th>0</th>\n",
       "      <td>70B6A9A437D4C30D</td>\n",
       "      <td>classic_bike</td>\n",
       "      <td>2020-12-27 12:44:29</td>\n",
       "      <td>2020-12-27 12:55:06</td>\n",
       "      <td>Aberdeen St &amp; Jackson Blvd</td>\n",
       "      <td>13157</td>\n",
       "      <td>Desplaines St &amp; Kinzie St</td>\n",
       "      <td>TA1306000003</td>\n",
       "      <td>41.877726</td>\n",
       "      <td>-87.654787</td>\n",
       "      <td>41.888716</td>\n",
       "      <td>-87.644448</td>\n",
       "      <td>member</td>\n",
       "      <td>27</td>\n",
       "      <td>12</td>\n",
       "      <td>2020</td>\n",
       "      <td>Sunday</td>\n",
       "      <td>00:10:37</td>\n",
       "    </tr>\n",
       "    <tr>\n",
       "      <th>1</th>\n",
       "      <td>158A465D4E74C54A</td>\n",
       "      <td>electric_bike</td>\n",
       "      <td>2020-12-18 17:37:15</td>\n",
       "      <td>2020-12-18 17:44:19</td>\n",
       "      <td>NaN</td>\n",
       "      <td>NaN</td>\n",
       "      <td>NaN</td>\n",
       "      <td>NaN</td>\n",
       "      <td>41.930000</td>\n",
       "      <td>-87.700000</td>\n",
       "      <td>41.910000</td>\n",
       "      <td>-87.700000</td>\n",
       "      <td>member</td>\n",
       "      <td>18</td>\n",
       "      <td>12</td>\n",
       "      <td>2020</td>\n",
       "      <td>Friday</td>\n",
       "      <td>00:07:04</td>\n",
       "    </tr>\n",
       "  </tbody>\n",
       "</table>\n",
       "</div>"
      ],
      "text/plain": [
       "            ride_id      ride_type          started_at            ended_at  \\\n",
       "0  70B6A9A437D4C30D   classic_bike 2020-12-27 12:44:29 2020-12-27 12:55:06   \n",
       "1  158A465D4E74C54A  electric_bike 2020-12-18 17:37:15 2020-12-18 17:44:19   \n",
       "\n",
       "           start_station_name start_station_id           end_station_name  \\\n",
       "0  Aberdeen St & Jackson Blvd            13157  Desplaines St & Kinzie St   \n",
       "1                         NaN              NaN                        NaN   \n",
       "\n",
       "  end_station_id  start_lat  start_lng    end_lat    end_lng  \\\n",
       "0   TA1306000003  41.877726 -87.654787  41.888716 -87.644448   \n",
       "1            NaN  41.930000 -87.700000  41.910000 -87.700000   \n",
       "\n",
       "  subscription_type  start_day  month  year week_day ride_length  \n",
       "0            member         27     12  2020   Sunday    00:10:37  \n",
       "1            member         18     12  2020   Friday    00:07:04  "
      ]
     },
     "execution_count": 16,
     "metadata": {},
     "output_type": "execute_result"
    }
   ],
   "source": [
    "cyclist_df.head(2)"
   ]
  },
  {
   "cell_type": "markdown",
   "metadata": {},
   "source": [
    "## Creating a new DataFrame for analysis."
   ]
  },
  {
   "cell_type": "code",
   "execution_count": 17,
   "metadata": {},
   "outputs": [
    {
     "data": {
      "text/html": [
       "<div>\n",
       "<style scoped>\n",
       "    .dataframe tbody tr th:only-of-type {\n",
       "        vertical-align: middle;\n",
       "    }\n",
       "\n",
       "    .dataframe tbody tr th {\n",
       "        vertical-align: top;\n",
       "    }\n",
       "\n",
       "    .dataframe thead th {\n",
       "        text-align: right;\n",
       "    }\n",
       "</style>\n",
       "<table border=\"1\" class=\"dataframe\">\n",
       "  <thead>\n",
       "    <tr style=\"text-align: right;\">\n",
       "      <th></th>\n",
       "      <th>ride_id</th>\n",
       "      <th>ride_type</th>\n",
       "      <th>started_at</th>\n",
       "      <th>ended_at</th>\n",
       "      <th>start_day</th>\n",
       "      <th>month</th>\n",
       "      <th>year</th>\n",
       "      <th>week_day</th>\n",
       "      <th>ride_length</th>\n",
       "      <th>subscription_type</th>\n",
       "    </tr>\n",
       "  </thead>\n",
       "  <tbody>\n",
       "    <tr>\n",
       "      <th>0</th>\n",
       "      <td>70B6A9A437D4C30D</td>\n",
       "      <td>classic_bike</td>\n",
       "      <td>2020-12-27 12:44:29</td>\n",
       "      <td>2020-12-27 12:55:06</td>\n",
       "      <td>27</td>\n",
       "      <td>12</td>\n",
       "      <td>2020</td>\n",
       "      <td>Sunday</td>\n",
       "      <td>00:10:37</td>\n",
       "      <td>member</td>\n",
       "    </tr>\n",
       "    <tr>\n",
       "      <th>1</th>\n",
       "      <td>158A465D4E74C54A</td>\n",
       "      <td>electric_bike</td>\n",
       "      <td>2020-12-18 17:37:15</td>\n",
       "      <td>2020-12-18 17:44:19</td>\n",
       "      <td>18</td>\n",
       "      <td>12</td>\n",
       "      <td>2020</td>\n",
       "      <td>Friday</td>\n",
       "      <td>00:07:04</td>\n",
       "      <td>member</td>\n",
       "    </tr>\n",
       "    <tr>\n",
       "      <th>2</th>\n",
       "      <td>5262016E0F1F2F9A</td>\n",
       "      <td>electric_bike</td>\n",
       "      <td>2020-12-15 15:04:33</td>\n",
       "      <td>2020-12-15 15:11:28</td>\n",
       "      <td>15</td>\n",
       "      <td>12</td>\n",
       "      <td>2020</td>\n",
       "      <td>Tuesday</td>\n",
       "      <td>00:06:55</td>\n",
       "      <td>member</td>\n",
       "    </tr>\n",
       "    <tr>\n",
       "      <th>3</th>\n",
       "      <td>BE119628E44F871E</td>\n",
       "      <td>electric_bike</td>\n",
       "      <td>2020-12-15 15:54:18</td>\n",
       "      <td>2020-12-15 16:00:11</td>\n",
       "      <td>15</td>\n",
       "      <td>12</td>\n",
       "      <td>2020</td>\n",
       "      <td>Tuesday</td>\n",
       "      <td>00:05:53</td>\n",
       "      <td>member</td>\n",
       "    </tr>\n",
       "    <tr>\n",
       "      <th>4</th>\n",
       "      <td>69AF78D57854E110</td>\n",
       "      <td>electric_bike</td>\n",
       "      <td>2020-12-22 12:08:17</td>\n",
       "      <td>2020-12-22 12:10:59</td>\n",
       "      <td>22</td>\n",
       "      <td>12</td>\n",
       "      <td>2020</td>\n",
       "      <td>Tuesday</td>\n",
       "      <td>00:02:42</td>\n",
       "      <td>member</td>\n",
       "    </tr>\n",
       "  </tbody>\n",
       "</table>\n",
       "</div>"
      ],
      "text/plain": [
       "            ride_id      ride_type          started_at            ended_at  \\\n",
       "0  70B6A9A437D4C30D   classic_bike 2020-12-27 12:44:29 2020-12-27 12:55:06   \n",
       "1  158A465D4E74C54A  electric_bike 2020-12-18 17:37:15 2020-12-18 17:44:19   \n",
       "2  5262016E0F1F2F9A  electric_bike 2020-12-15 15:04:33 2020-12-15 15:11:28   \n",
       "3  BE119628E44F871E  electric_bike 2020-12-15 15:54:18 2020-12-15 16:00:11   \n",
       "4  69AF78D57854E110  electric_bike 2020-12-22 12:08:17 2020-12-22 12:10:59   \n",
       "\n",
       "   start_day  month  year week_day ride_length subscription_type  \n",
       "0         27     12  2020   Sunday    00:10:37            member  \n",
       "1         18     12  2020   Friday    00:07:04            member  \n",
       "2         15     12  2020  Tuesday    00:06:55            member  \n",
       "3         15     12  2020  Tuesday    00:05:53            member  \n",
       "4         22     12  2020  Tuesday    00:02:42            member  "
      ]
     },
     "execution_count": 17,
     "metadata": {},
     "output_type": "execute_result"
    }
   ],
   "source": [
    "cyclist_new=cyclist_df[[\"ride_id\",\"ride_type\",\"started_at\",\"ended_at\",\"start_day\",\"month\",\"year\",\n",
    "                        \"week_day\",\"ride_length\",\"subscription_type\"]]\n",
    "cyclist_new.head()"
   ]
  },
  {
   "cell_type": "code",
   "execution_count": 18,
   "metadata": {},
   "outputs": [
    {
     "data": {
      "text/plain": [
       "(5479096, 10)"
      ]
     },
     "execution_count": 18,
     "metadata": {},
     "output_type": "execute_result"
    }
   ],
   "source": [
    "cyclist_new.shape"
   ]
  },
  {
   "cell_type": "code",
   "execution_count": 19,
   "metadata": {},
   "outputs": [
    {
     "name": "stdout",
     "output_type": "stream",
     "text": [
      "<class 'pandas.core.frame.DataFrame'>\n",
      "Int64Index: 5479096 entries, 0 to 359977\n",
      "Data columns (total 10 columns):\n",
      " #   Column             Dtype          \n",
      "---  ------             -----          \n",
      " 0   ride_id            object         \n",
      " 1   ride_type          object         \n",
      " 2   started_at         datetime64[ns] \n",
      " 3   ended_at           datetime64[ns] \n",
      " 4   start_day          int64          \n",
      " 5   month              int64          \n",
      " 6   year               int64          \n",
      " 7   week_day           object         \n",
      " 8   ride_length        timedelta64[ns]\n",
      " 9   subscription_type  object         \n",
      "dtypes: datetime64[ns](2), int64(3), object(4), timedelta64[ns](1)\n",
      "memory usage: 459.8+ MB\n"
     ]
    }
   ],
   "source": [
    "cyclist_new.info()"
   ]
  },
  {
   "cell_type": "code",
   "execution_count": 20,
   "metadata": {},
   "outputs": [
    {
     "data": {
      "text/plain": [
       "ride_id              0\n",
       "ride_type            0\n",
       "started_at           0\n",
       "ended_at             0\n",
       "start_day            0\n",
       "month                0\n",
       "year                 0\n",
       "week_day             0\n",
       "ride_length          0\n",
       "subscription_type    0\n",
       "dtype: int64"
      ]
     },
     "execution_count": 20,
     "metadata": {},
     "output_type": "execute_result"
    }
   ],
   "source": [
    "cyclist_new.isnull().sum()"
   ]
  },
  {
   "cell_type": "code",
   "execution_count": 21,
   "metadata": {},
   "outputs": [
    {
     "data": {
      "text/plain": [
       "0    Saturday\n",
       "dtype: object"
      ]
     },
     "execution_count": 21,
     "metadata": {},
     "output_type": "execute_result"
    }
   ],
   "source": [
    "# Highest Frequency of the weekdays\n",
    "cyclist_new[\"week_day\"].mode()"
   ]
  },
  {
   "cell_type": "markdown",
   "metadata": {},
   "source": [
    "## <font color=green> The above analysis shows that most of the rides occured on Saturday than any other day.</font>"
   ]
  },
  {
   "cell_type": "code",
   "execution_count": 22,
   "metadata": {},
   "outputs": [
    {
     "data": {
      "text/plain": [
       "Timedelta('0 days 00:20:09.218658')"
      ]
     },
     "execution_count": 22,
     "metadata": {},
     "output_type": "execute_result"
    }
   ],
   "source": [
    "mean_ride_len=cyclist_new[\"ride_length\"].mean()\n",
    "mean_ride_len"
   ]
  },
  {
   "cell_type": "code",
   "execution_count": 23,
   "metadata": {},
   "outputs": [
    {
     "data": {
      "text/plain": [
       "Timedelta('38 days 20:24:09')"
      ]
     },
     "execution_count": 23,
     "metadata": {},
     "output_type": "execute_result"
    }
   ],
   "source": [
    "max_ride_len=cyclist_new[\"ride_length\"].max()\n",
    "max_ride_len"
   ]
  },
  {
   "cell_type": "markdown",
   "metadata": {},
   "source": [
    "## <font color=green>The average duration of ride_length is '0 days 00:20:31.754192'.<br> The maximum duartion of ride_length is '38 days 20:24:09' </font>"
   ]
  },
  {
   "cell_type": "code",
   "execution_count": null,
   "metadata": {},
   "outputs": [],
   "source": []
  },
  {
   "cell_type": "markdown",
   "metadata": {},
   "source": [
    "## Exploring the Categorical columns."
   ]
  },
  {
   "cell_type": "code",
   "execution_count": 24,
   "metadata": {},
   "outputs": [
    {
     "data": {
      "text/plain": [
       "array(['classic_bike', 'electric_bike', 'docked_bike'], dtype=object)"
      ]
     },
     "execution_count": 24,
     "metadata": {},
     "output_type": "execute_result"
    }
   ],
   "source": [
    "cyclist_new[\"ride_type\"].unique()"
   ]
  },
  {
   "cell_type": "code",
   "execution_count": 25,
   "metadata": {},
   "outputs": [
    {
     "data": {
      "text/plain": [
       "classic_bike     3221009\n",
       "electric_bike    1937668\n",
       "docked_bike       320419\n",
       "Name: ride_type, dtype: int64"
      ]
     },
     "execution_count": 25,
     "metadata": {},
     "output_type": "execute_result"
    }
   ],
   "source": [
    "types_ride=cyclist_new[\"ride_type\"].value_counts()\n",
    "types_ride"
   ]
  },
  {
   "cell_type": "code",
   "execution_count": 26,
   "metadata": {},
   "outputs": [
    {
     "data": {
      "image/png": "[encoded data removed]",
      "text/plain": [
       "<Figure size 504x504 with 1 Axes>"
      ]
     },
     "metadata": {},
     "output_type": "display_data"
    }
   ],
   "source": [
    "plt.rcParams[\"figure.figsize\"]=(7,7)\n",
    "label=[\"classic_bike\",\"electric_bike\",\"docked_bike\"]\n",
    "color =[\"#1D3557\",\"#2A9D8F\",\"#457B9D\"]\n",
    "plt.pie(types_ride.values,colors=color,startangle=90,autopct=\"%1.2f%%\",\n",
    "        wedgeprops={\"edgecolor\":\"white\"},textprops=dict(color=\"w\"))\n",
    "plt.title(\"Percentage of Different Ride_type used\")\n",
    "plt.legend(types_ride.index,loc=\"best\")\n",
    "plt.show()"
   ]
  },
  {
   "cell_type": "markdown",
   "metadata": {},
   "source": [
    "## <font color=green>Ride_type column has: 56.13% Classic_Bike , 35.65% electric_bike , 8.22% Docked_bike</font>"
   ]
  },
  {
   "cell_type": "code",
   "execution_count": null,
   "metadata": {},
   "outputs": [],
   "source": []
  },
  {
   "cell_type": "code",
   "execution_count": 27,
   "metadata": {},
   "outputs": [
    {
     "data": {
      "text/plain": [
       "array(['member', 'casual'], dtype=object)"
      ]
     },
     "execution_count": 27,
     "metadata": {},
     "output_type": "execute_result"
    }
   ],
   "source": [
    "cyclist_new[\"subscription_type\"].unique()"
   ]
  },
  {
   "cell_type": "code",
   "execution_count": 28,
   "metadata": {},
   "outputs": [
    {
     "data": {
      "text/plain": [
       "member    2989749\n",
       "casual    2489347\n",
       "Name: subscription_type, dtype: int64"
      ]
     },
     "execution_count": 28,
     "metadata": {},
     "output_type": "execute_result"
    }
   ],
   "source": [
    "types_subs=cyclist_new[\"subscription_type\"].value_counts()\n",
    "types_subs"
   ]
  },
  {
   "cell_type": "code",
   "execution_count": 29,
   "metadata": {},
   "outputs": [
    {
     "data": {
      "image/png": "[encoded data removed]",
      "text/plain": [
       "<Figure size 432x432 with 1 Axes>"
      ]
     },
     "metadata": {},
     "output_type": "display_data"
    }
   ],
   "source": [
    "plt.rcParams[\"figure.figsize\"]=(6,6)\n",
    "color =[\"#1D3557\",\"#2A9D8F\"] #\"#457B9D\"]\n",
    "plt.pie(types_subs.values,colors=color,startangle=90,autopct=\"%1.2f%%\",\n",
    "        wedgeprops={\"edgecolor\":\"white\"},textprops=dict(color=\"w\"))\n",
    "plt.title(\"Percentage of Different Subcription Type\")\n",
    "plt.legend(types_subs.index,loc=\"best\")\n",
    "plt.show()"
   ]
  },
  {
   "cell_type": "markdown",
   "metadata": {},
   "source": [
    "## <font color=green> The Subscription_type columns has : 55.09% Member riders and 44.91% Casual riders.</font>"
   ]
  },
  {
   "cell_type": "code",
   "execution_count": null,
   "metadata": {},
   "outputs": [],
   "source": []
  },
  {
   "cell_type": "markdown",
   "metadata": {},
   "source": [
    "## Types of bikes preferred by Customers(member,casual)."
   ]
  },
  {
   "cell_type": "code",
   "execution_count": 31,
   "metadata": {},
   "outputs": [
    {
     "data": {
      "text/plain": [
       "ride_type      subscription_type\n",
       "classic_bike   member               1962839\n",
       "               casual               1258170\n",
       "docked_bike    casual                312382\n",
       "               member                  8037\n",
       "electric_bike  member               1018873\n",
       "               casual                918795\n",
       "Name: subscription_type, dtype: int64"
      ]
     },
     "execution_count": 31,
     "metadata": {},
     "output_type": "execute_result"
    }
   ],
   "source": [
    "ride_preference = cyclist_new.groupby(\"ride_type\")[\"subscription_type\"].value_counts()\n",
    "ride_preference"
   ]
  },
  {
   "cell_type": "code",
   "execution_count": 32,
   "metadata": {},
   "outputs": [],
   "source": [
    "bike_type=[]\n",
    "subscription=[]\n",
    "values=list(ride_preference.values)\n",
    "\n",
    "for i,j in ride_preference.index:\n",
    "    bike_type.append(i)\n",
    "    subscription.append(j)\n",
    "    \n"
   ]
  },
  {
   "cell_type": "code",
   "execution_count": 33,
   "metadata": {},
   "outputs": [
    {
     "data": {
      "text/plain": [
       "Text(0, 0.5, 'Count')"
      ]
     },
     "execution_count": 33,
     "metadata": {},
     "output_type": "execute_result"
    },
    {
     "data": {
      "image/png": "[encoded data removed]",
      "text/plain": [
       "<Figure size 720x360 with 1 Axes>"
      ]
     },
     "metadata": {
      "needs_background": "light"
     },
     "output_type": "display_data"
    }
   ],
   "source": [
    "plt.rcParams[\"figure.figsize\"]=(10,5)\n",
    "plot=sns.barplot(x=bike_type,y=values,hue=subscription,palette=\"mako\")\n",
    "plot.set(title=\"Bikes preferred by Riders\")\n",
    "plot.set_xlabel(\"Bike Types\")\n",
    "plot.set_ylabel(\"Count\")"
   ]
  },
  {
   "cell_type": "markdown",
   "metadata": {},
   "source": [
    "## <font color=black> Observation:</font>\n",
    "* ### <font color=green> __Classic Bikes are mostly used by Members__</font>\n",
    "* ### <font color=green> __Docked Bikes are mostly used by Casuals__</font>\n",
    "* ### <font color=green> __Electric bikes are used by both__</font>"
   ]
  },
  {
   "cell_type": "code",
   "execution_count": 34,
   "metadata": {},
   "outputs": [
    {
     "data": {
      "text/plain": [
       "week_day   subscription_type\n",
       "Friday     member               429349\n",
       "           casual               354586\n",
       "Monday     member               407628\n",
       "           casual               282185\n",
       "Saturday   casual               551487\n",
       "           member               425470\n",
       "Sunday     casual               477822\n",
       "           member               372540\n",
       "Thursday   member               433105\n",
       "           casual               278198\n",
       "Tuesday    member               460832\n",
       "           casual               272208\n",
       "Wednesday  member               460825\n",
       "           casual               272861\n",
       "Name: subscription_type, dtype: int64"
      ]
     },
     "execution_count": 34,
     "metadata": {},
     "output_type": "execute_result"
    }
   ],
   "source": [
    "ride_by_week=cyclist_new.groupby(\"week_day\")[\"subscription_type\"].value_counts()\n",
    "ride_by_week"
   ]
  },
  {
   "cell_type": "code",
   "execution_count": 35,
   "metadata": {},
   "outputs": [],
   "source": [
    "weekday=[]\n",
    "subscription_w=[]\n",
    "values_w=list(ride_by_week.values)\n",
    "\n",
    "for i,j in ride_by_week.index:\n",
    "    weekday.append(i)\n",
    "    subscription_w.append(j)"
   ]
  },
  {
   "cell_type": "code",
   "execution_count": 36,
   "metadata": {},
   "outputs": [
    {
     "data": {
      "text/plain": [
       "Text(0, 0.5, 'Count')"
      ]
     },
     "execution_count": 36,
     "metadata": {},
     "output_type": "execute_result"
    },
    {
     "data": {
      "image/png": "[encoded data removed]",
      "text/plain": [
       "<Figure size 720x360 with 1 Axes>"
      ]
     },
     "metadata": {
      "needs_background": "light"
     },
     "output_type": "display_data"
    }
   ],
   "source": [
    "plt.rcParams[\"figure.figsize\"]=(10,5)\n",
    "plot=sns.barplot(x=weekday,y=values_w,hue=subscription_w,palette=\"mako\")\n",
    "plot.set(title=\"No. of member and casual customer over weeks\")\n",
    "plot.set_xlabel(\"Days of Weeks\")\n",
    "plot.set_ylabel(\"Count\")"
   ]
  },
  {
   "cell_type": "markdown",
   "metadata": {},
   "source": [
    "## Observations:\n",
    "* ### <font color=green>Maximum rides are done on Saturday followed by Sunday, and count of casual riders are high on those days</font>\n",
    "* ### <font color=green>Counts of member riders are high from Sunday to Thrusday.</font>"
   ]
  },
  {
   "cell_type": "code",
   "execution_count": 37,
   "metadata": {},
   "outputs": [
    {
     "data": {
      "text/plain": [
       "month  subscription_type\n",
       "1      member                78717\n",
       "       casual                18117\n",
       "2      member                39491\n",
       "       casual                10131\n",
       "3      member               144463\n",
       "       casual                84033\n",
       "4      member               200629\n",
       "       casual               136601\n",
       "5      member               274717\n",
       "       casual               256916\n",
       "6      casual               370681\n",
       "       member               358914\n",
       "7      casual               442056\n",
       "       member               380354\n",
       "8      casual               412671\n",
       "       member               391681\n",
       "9      member               392257\n",
       "       casual               363890\n",
       "10     member               373984\n",
       "       casual               257242\n",
       "11     member               253049\n",
       "       casual               106929\n",
       "12     member               101493\n",
       "       casual                30080\n",
       "Name: subscription_type, dtype: int64"
      ]
     },
     "execution_count": 37,
     "metadata": {},
     "output_type": "execute_result"
    }
   ],
   "source": [
    "subs_month=cyclist_new.groupby(\"month\")[\"subscription_type\"].value_counts()\n",
    "subs_month"
   ]
  },
  {
   "cell_type": "code",
   "execution_count": 38,
   "metadata": {},
   "outputs": [],
   "source": [
    "month=[]\n",
    "subscription=[]\n",
    "values=list(subs_month.values)\n",
    "\n",
    "for i,j in subs_month.index:\n",
    "    month.append(i)\n",
    "    subscription.append(j)"
   ]
  },
  {
   "cell_type": "code",
   "execution_count": 39,
   "metadata": {},
   "outputs": [
    {
     "data": {
      "text/plain": [
       "<matplotlib.axes._subplots.AxesSubplot at 0x244af09e940>"
      ]
     },
     "execution_count": 39,
     "metadata": {},
     "output_type": "execute_result"
    },
    {
     "data": {
      "image/png": "[encoded data removed]",
      "text/plain": [
       "<Figure size 720x360 with 1 Axes>"
      ]
     },
     "metadata": {
      "needs_background": "light"
     },
     "output_type": "display_data"
    }
   ],
   "source": [
    "plt.rcParams[\"figure.figsize\"]=(10,5)\n",
    "sns.barplot(x=month,y=values,hue=subscription,palette=\"mako\")"
   ]
  },
  {
   "cell_type": "markdown",
   "metadata": {},
   "source": [
    "## Observations:\n",
    "* ### <font color=green>From month 6 to 8 Casual Riders are more than Member Riders</font>\n",
    "* ### <font color=green>Count of Casual Riders are low at the start and end of the year</font>\n",
    "* ### <font color=green>Count of Member Rides are high at the start and end of the year</font>"
   ]
  },
  {
   "cell_type": "code",
   "execution_count": null,
   "metadata": {},
   "outputs": [],
   "source": []
  },
  {
   "cell_type": "code",
   "execution_count": 40,
   "metadata": {},
   "outputs": [
    {
     "data": {
      "text/plain": [
       "week_day   subscription_type\n",
       "Friday     casual                       00:30:34.868536\n",
       "           member                       00:13:28.198984\n",
       "Monday     casual                       00:31:59.127076\n",
       "           member                       00:13:20.592947\n",
       "Saturday   casual                       00:34:54.254219\n",
       "           member                       00:15:21.240235\n",
       "Sunday     casual                       00:37:44.300364\n",
       "           member                       00:15:45.769297\n",
       "Thursday   casual                       00:27:52.816102\n",
       "           member                       00:12:55.931898\n",
       "Tuesday    casual                       00:19:42.468446\n",
       "           member              -1 days +23:54:17.701819\n",
       "Wednesday  casual                       00:27:44.540758\n",
       "           member                       00:12:58.978531\n",
       "Name: ride_length, dtype: timedelta64[ns]"
      ]
     },
     "execution_count": 40,
     "metadata": {},
     "output_type": "execute_result"
    }
   ],
   "source": [
    "mean_ride_week=cyclist_new.groupby([\"week_day\",\"subscription_type\"])[\"ride_length\"].mean(numeric_only=False)\n",
    "mean_ride_week"
   ]
  },
  {
   "cell_type": "code",
   "execution_count": 41,
   "metadata": {},
   "outputs": [
    {
     "data": {
      "text/plain": [
       "week_day   ride_type      subscription_type\n",
       "Friday     classic_bike   casual                0 days 00:27:18.331980\n",
       "                          member                0 days 00:13:50.211247\n",
       "           docked_bike    casual                0 days 01:22:46.620166\n",
       "                          member                0 days 00:13:13.396186\n",
       "           electric_bike  casual                0 days 00:19:00.686417\n",
       "                          member                0 days 00:12:48.393954\n",
       "Monday     classic_bike   casual                0 days 00:29:19.183943\n",
       "                          member                0 days 00:13:49.797478\n",
       "           docked_bike    casual                0 days 01:17:23.138791\n",
       "           electric_bike  casual                0 days 00:20:19.530280\n",
       "                          member                0 days 00:12:23.773613\n",
       "Saturday   classic_bike   casual                0 days 00:30:37.340761\n",
       "                          member                0 days 00:15:49.549035\n",
       "           docked_bike    casual                0 days 01:20:44.225046\n",
       "           electric_bike  casual                0 days 00:21:40.194459\n",
       "                          member                0 days 00:14:23.909899\n",
       "Sunday     classic_bike   casual                0 days 00:32:27.376351\n",
       "                          member                0 days 00:16:16.206931\n",
       "           docked_bike    casual                0 days 01:28:10.831140\n",
       "           electric_bike  casual                0 days 00:23:07.830718\n",
       "                          member                0 days 00:14:41.175576\n",
       "Thursday   classic_bike   casual                0 days 00:25:46.151117\n",
       "                          member                0 days 00:13:18.731988\n",
       "           docked_bike    casual                0 days 01:18:32.593942\n",
       "                          member                0 days 00:13:01.760997\n",
       "           electric_bike  casual                0 days 00:18:05.500261\n",
       "                          member                0 days 00:12:13.025715\n",
       "Tuesday    classic_bike   casual                0 days 00:26:25.389606\n",
       "                          member                0 days 00:13:18.708221\n",
       "           docked_bike    casual                0 days 00:47:33.551782\n",
       "                          member              -2 days +14:54:59.207811\n",
       "           electric_bike  casual                0 days 00:05:15.789173\n",
       "                          member              -1 days +23:51:35.731178\n",
       "Wednesday  classic_bike   casual                0 days 00:25:26.348259\n",
       "                          member                0 days 00:13:21.448132\n",
       "           docked_bike    casual                0 days 01:17:56.143645\n",
       "                          member                0 days 00:12:50.369078\n",
       "           electric_bike  casual                0 days 00:18:08.786696\n",
       "                          member                0 days 00:12:16.163086\n",
       "Name: ride_length, dtype: timedelta64[ns]"
      ]
     },
     "execution_count": 41,
     "metadata": {},
     "output_type": "execute_result"
    }
   ],
   "source": [
    "cyclist_new.groupby([\"week_day\",\"ride_type\",\"subscription_type\"])[\"ride_length\"].mean(numeric_only=False)"
   ]
  },
  {
   "cell_type": "code",
   "execution_count": 42,
   "metadata": {},
   "outputs": [
    {
     "data": {
      "text/plain": [
       "month  ride_type      subscription_type\n",
       "1      classic_bike   casual                       00:24:50.157767\n",
       "                      member                       00:13:23.537190\n",
       "       docked_bike    casual                       01:09:48.802850\n",
       "                      member                              00:02:38\n",
       "       electric_bike  casual                       00:14:36.437508\n",
       "                                                    ...           \n",
       "12     classic_bike   member                       00:13:13.500598\n",
       "       docked_bike    casual              -1 days +22:33:40.758252\n",
       "                      member              -1 days +13:17:19.401941\n",
       "       electric_bike  casual              -1 days +22:24:20.783658\n",
       "                      member              -1 days +22:35:41.722482\n",
       "Name: ride_length, Length: 62, dtype: timedelta64[ns]"
      ]
     },
     "execution_count": 42,
     "metadata": {},
     "output_type": "execute_result"
    }
   ],
   "source": [
    "cyclist_new.groupby([\"month\",\"ride_type\",\"subscription_type\"])[\"ride_length\"].mean(numeric_only=False)"
   ]
  },
  {
   "cell_type": "code",
   "execution_count": null,
   "metadata": {},
   "outputs": [],
   "source": []
  },
  {
   "cell_type": "code",
   "execution_count": 43,
   "metadata": {},
   "outputs": [],
   "source": [
    "cyclist_new.to_csv(r\"C:\\Users\\Ajit\\Desktop\\Projects\\Cyclist-bike-share\\cyclist_trips_clean.csv\")"
   ]
  },
  {
   "cell_type": "code",
   "execution_count": null,
   "metadata": {},
   "outputs": [],
   "source": []
  },
  {
   "cell_type": "markdown",
   "metadata": {},
   "source": [
    "## Data Visualization is done using Tableau:\n",
    "### Part_1 : https://public.tableau.com/app/profile/ajit8688/viz/CyclistBike-Share_Analysis/Trip_DurationDB_1\n",
    "### Part_2 : https://public.tableau.com/app/profile/ajit8688/viz/CyclistBike-Share_Analysis_part2/Trip_countDB_2"
   ]
  },
  {
   "cell_type": "code",
   "execution_count": null,
   "metadata": {},
   "outputs": [],
   "source": []
  },
  {
   "cell_type": "code",
   "execution_count": null,
   "metadata": {},
   "outputs": [],
   "source": []
  },
  {
   "cell_type": "code",
   "execution_count": null,
   "metadata": {},
   "outputs": [],
   "source": []
  },
  {
   "cell_type": "code",
   "execution_count": null,
   "metadata": {},
   "outputs": [],
   "source": []
  },
  {
   "cell_type": "code",
   "execution_count": null,
   "metadata": {},
   "outputs": [],
   "source": []
  },
  {
   "cell_type": "code",
   "execution_count": null,
   "metadata": {},
   "outputs": [],
   "source": []
  },
  {
   "cell_type": "code",
   "execution_count": null,
   "metadata": {},
   "outputs": [],
   "source": []
  },
  {
   "cell_type": "code",
   "execution_count": null,
   "metadata": {},
   "outputs": [],
   "source": []
  },
  {
   "cell_type": "code",
   "execution_count": null,
   "metadata": {},
   "outputs": [],
   "source": []
  },
  {
   "cell_type": "code",
   "execution_count": null,
   "metadata": {},
   "outputs": [],
   "source": []
  },
  {
   "cell_type": "code",
   "execution_count": null,
   "metadata": {},
   "outputs": [],
   "source": []
  },
  {
   "cell_type": "code",
   "execution_count": null,
   "metadata": {},
   "outputs": [],
   "source": []
  },
  {
   "cell_type": "code",
   "execution_count": null,
   "metadata": {},
   "outputs": [],
   "source": []
  },
  {
   "cell_type": "code",
   "execution_count": null,
   "metadata": {},
   "outputs": [],
   "source": []
  },
  {
   "cell_type": "code",
   "execution_count": null,
   "metadata": {},
   "outputs": [],
   "source": []
  },
  {
   "cell_type": "code",
   "execution_count": null,
   "metadata": {},
   "outputs": [],
   "source": []
  },
  {
   "cell_type": "code",
   "execution_count": null,
   "metadata": {},
   "outputs": [],
   "source": []
  },
  {
   "cell_type": "code",
   "execution_count": null,
   "metadata": {},
   "outputs": [],
   "source": []
  },
  {
   "cell_type": "code",
   "execution_count": null,
   "metadata": {},
   "outputs": [],
   "source": []
  },
  {
   "cell_type": "code",
   "execution_count": null,
   "metadata": {},
   "outputs": [],
   "source": []
  },
  {
   "cell_type": "code",
   "execution_count": null,
   "metadata": {},
   "outputs": [],
   "source": []
  },
  {
   "cell_type": "code",
   "execution_count": null,
   "metadata": {},
   "outputs": [],
   "source": []
  },
  {
   "cell_type": "code",
   "execution_count": null,
   "metadata": {},
   "outputs": [],
   "source": []
  },
  {
   "cell_type": "code",
   "execution_count": null,
   "metadata": {},
   "outputs": [],
   "source": []
  },
  {
   "cell_type": "code",
   "execution_count": null,
   "metadata": {},
   "outputs": [],
   "source": []
  },
  {
   "cell_type": "code",
   "execution_count": null,
   "metadata": {},
   "outputs": [],
   "source": []
  },
  {
   "cell_type": "code",
   "execution_count": null,
   "metadata": {},
   "outputs": [],
   "source": []
  },
  {
   "cell_type": "code",
   "execution_count": null,
   "metadata": {},
   "outputs": [],
   "source": []
  },
  {
   "cell_type": "code",
   "execution_count": null,
   "metadata": {},
   "outputs": [],
   "source": []
  },
  {
   "cell_type": "code",
   "execution_count": null,
   "metadata": {},
   "outputs": [],
   "source": []
  },
  {
   "cell_type": "code",
   "execution_count": null,
   "metadata": {},
   "outputs": [],
   "source": []
  },
  {
   "cell_type": "code",
   "execution_count": null,
   "metadata": {},
   "outputs": [],
   "source": []
  },
  {
   "cell_type": "code",
   "execution_count": null,
   "metadata": {},
   "outputs": [],
   "source": []
  },
  {
   "cell_type": "code",
   "execution_count": null,
   "metadata": {},
   "outputs": [],
   "source": []
  },
  {
   "cell_type": "code",
   "execution_count": null,
   "metadata": {},
   "outputs": [],
   "source": []
  },
  {
   "cell_type": "code",
   "execution_count": null,
   "metadata": {},
   "outputs": [],
   "source": []
  },
  {
   "cell_type": "code",
   "execution_count": null,
   "metadata": {},
   "outputs": [],
   "source": []
  },
  {
   "cell_type": "code",
   "execution_count": null,
   "metadata": {},
   "outputs": [],
   "source": []
  },
  {
   "cell_type": "code",
   "execution_count": null,
   "metadata": {},
   "outputs": [],
   "source": []
  },
  {
   "cell_type": "code",
   "execution_count": null,
   "metadata": {},
   "outputs": [],
   "source": []
  },
  {
   "cell_type": "code",
   "execution_count": null,
   "metadata": {},
   "outputs": [],
   "source": []
  },
  {
   "cell_type": "code",
   "execution_count": null,
   "metadata": {},
   "outputs": [],
   "source": []
  },
  {
   "cell_type": "code",
   "execution_count": null,
   "metadata": {},
   "outputs": [],
   "source": []
  },
  {
   "cell_type": "code",
   "execution_count": null,
   "metadata": {},
   "outputs": [],
   "source": []
  },
  {
   "cell_type": "code",
   "execution_count": null,
   "metadata": {},
   "outputs": [],
   "source": []
  },
  {
   "cell_type": "code",
   "execution_count": null,
   "metadata": {},
   "outputs": [],
   "source": []
  },
  {
   "cell_type": "code",
   "execution_count": null,
   "metadata": {},
   "outputs": [],
   "source": []
  },
  {
   "cell_type": "code",
   "execution_count": null,
   "metadata": {},
   "outputs": [],
   "source": []
  },
  {
   "cell_type": "code",
   "execution_count": null,
   "metadata": {},
   "outputs": [],
   "source": []
  },
  {
   "cell_type": "code",
   "execution_count": null,
   "metadata": {},
   "outputs": [],
   "source": []
  },
  {
   "cell_type": "code",
   "execution_count": null,
   "metadata": {},
   "outputs": [],
   "source": []
  },
  {
   "cell_type": "code",
   "execution_count": null,
   "metadata": {},
   "outputs": [],
   "source": []
  },
  {
   "cell_type": "code",
   "execution_count": null,
   "metadata": {},
   "outputs": [],
   "source": []
  },
  {
   "cell_type": "code",
   "execution_count": null,
   "metadata": {},
   "outputs": [],
   "source": []
  },
  {
   "cell_type": "code",
   "execution_count": null,
   "metadata": {},
   "outputs": [],
   "source": []
  },
  {
   "cell_type": "code",
   "execution_count": null,
   "metadata": {},
   "outputs": [],
   "source": []
  },
  {
   "cell_type": "code",
   "execution_count": null,
   "metadata": {},
   "outputs": [],
   "source": []
  },
  {
   "cell_type": "code",
   "execution_count": null,
   "metadata": {},
   "outputs": [],
   "source": []
  },
  {
   "cell_type": "code",
   "execution_count": null,
   "metadata": {},
   "outputs": [],
   "source": []
  },
  {
   "cell_type": "code",
   "execution_count": null,
   "metadata": {},
   "outputs": [],
   "source": []
  },
  {
   "cell_type": "code",
   "execution_count": null,
   "metadata": {},
   "outputs": [],
   "source": []
  },
  {
   "cell_type": "code",
   "execution_count": null,
   "metadata": {},
   "outputs": [],
   "source": []
  },
  {
   "cell_type": "code",
   "execution_count": null,
   "metadata": {},
   "outputs": [],
   "source": []
  },
  {
   "cell_type": "code",
   "execution_count": null,
   "metadata": {},
   "outputs": [],
   "source": []
  },
  {
   "cell_type": "code",
   "execution_count": null,
   "metadata": {},
   "outputs": [],
   "source": []
  },
  {
   "cell_type": "code",
   "execution_count": null,
   "metadata": {},
   "outputs": [],
   "source": []
  },
  {
   "cell_type": "code",
   "execution_count": null,
   "metadata": {},
   "outputs": [],
   "source": []
  },
  {
   "cell_type": "code",
   "execution_count": null,
   "metadata": {},
   "outputs": [],
   "source": []
  },
  {
   "cell_type": "code",
   "execution_count": null,
   "metadata": {},
   "outputs": [],
   "source": []
  },
  {
   "cell_type": "code",
   "execution_count": null,
   "metadata": {},
   "outputs": [],
   "source": []
  },
  {
   "cell_type": "code",
   "execution_count": null,
   "metadata": {},
   "outputs": [],
   "source": []
  },
  {
   "cell_type": "code",
   "execution_count": null,
   "metadata": {},
   "outputs": [],
   "source": []
  },
  {
   "cell_type": "code",
   "execution_count": null,
   "metadata": {},
   "outputs": [],
   "source": []
  },
  {
   "cell_type": "code",
   "execution_count": null,
   "metadata": {},
   "outputs": [],
   "source": []
  },
  {
   "cell_type": "code",
   "execution_count": null,
   "metadata": {},
   "outputs": [],
   "source": []
  },
  {
   "cell_type": "code",
   "execution_count": null,
   "metadata": {},
   "outputs": [],
   "source": []
  },
  {
   "cell_type": "code",
   "execution_count": null,
   "metadata": {},
   "outputs": [],
   "source": []
  },
  {
   "cell_type": "code",
   "execution_count": null,
   "metadata": {},
   "outputs": [],
   "source": []
  },
  {
   "cell_type": "code",
   "execution_count": null,
   "metadata": {},
   "outputs": [],
   "source": []
  },
  {
   "cell_type": "code",
   "execution_count": null,
   "metadata": {},
   "outputs": [],
   "source": []
  },
  {
   "cell_type": "code",
   "execution_count": null,
   "metadata": {},
   "outputs": [],
   "source": []
  },
  {
   "cell_type": "code",
   "execution_count": null,
   "metadata": {},
   "outputs": [],
   "source": []
  },
  {
   "cell_type": "code",
   "execution_count": null,
   "metadata": {},
   "outputs": [],
   "source": []
  },
  {
   "cell_type": "code",
   "execution_count": null,
   "metadata": {},
   "outputs": [],
   "source": []
  },
  {
   "cell_type": "code",
   "execution_count": null,
   "metadata": {},
   "outputs": [],
   "source": []
  },
  {
   "cell_type": "code",
   "execution_count": null,
   "metadata": {},
   "outputs": [],
   "source": []
  },
  {
   "cell_type": "code",
   "execution_count": null,
   "metadata": {},
   "outputs": [],
   "source": []
  },
  {
   "cell_type": "code",
   "execution_count": null,
   "metadata": {},
   "outputs": [],
   "source": []
  },
  {
   "cell_type": "code",
   "execution_count": null,
   "metadata": {},
   "outputs": [],
   "source": []
  },
  {
   "cell_type": "code",
   "execution_count": null,
   "metadata": {},
   "outputs": [],
   "source": []
  },
  {
   "cell_type": "code",
   "execution_count": null,
   "metadata": {},
   "outputs": [],
   "source": []
  },
  {
   "cell_type": "code",
   "execution_count": null,
   "metadata": {},
   "outputs": [],
   "source": []
  },
  {
   "cell_type": "code",
   "execution_count": null,
   "metadata": {},
   "outputs": [],
   "source": []
  },
  {
   "cell_type": "code",
   "execution_count": null,
   "metadata": {},
   "outputs": [],
   "source": []
  },
  {
   "cell_type": "code",
   "execution_count": null,
   "metadata": {},
   "outputs": [],
   "source": []
  },
  {
   "cell_type": "code",
   "execution_count": null,
   "metadata": {},
   "outputs": [],
   "source": []
  },
  {
   "cell_type": "code",
   "execution_count": null,
   "metadata": {},
   "outputs": [],
   "source": []
  },
  {
   "cell_type": "code",
   "execution_count": null,
   "metadata": {},
   "outputs": [],
   "source": []
  },
  {
   "cell_type": "code",
   "execution_count": null,
   "metadata": {},
   "outputs": [],
   "source": []
  },
  {
   "cell_type": "code",
   "execution_count": null,
   "metadata": {},
   "outputs": [],
   "source": []
  },
  {
   "cell_type": "code",
   "execution_count": null,
   "metadata": {},
   "outputs": [],
   "source": []
  },
  {
   "cell_type": "code",
   "execution_count": null,
   "metadata": {},
   "outputs": [],
   "source": []
  }
 ],
 "metadata": {
  "kernelspec": {
   "display_name": "Python 3",
   "language": "python",
   "name": "python3"
  },
  "language_info": {
   "codemirror_mode": {
    "name": "ipython",
    "version": 3
   },
   "file_extension": ".py",
   "mimetype": "text/x-python",
   "name": "python",
   "nbconvert_exporter": "python",
   "pygments_lexer": "ipython3",
   "version": "3.8.3"
  },
  "toc": {
   "base_numbering": 1,
   "nav_menu": {},
   "number_sections": false,
   "sideBar": true,
   "skip_h1_title": false,
   "title_cell": "Table of Contents",
   "title_sidebar": "Contents",
   "toc_cell": false,
   "toc_position": {},
   "toc_section_display": true,
   "toc_window_display": false
  }
 },
 "nbformat": 4,
 "nbformat_minor": 4
}
